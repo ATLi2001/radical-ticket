{
 "cells": [
  {
   "cell_type": "code",
   "execution_count": 1,
   "metadata": {},
   "outputs": [],
   "source": [
    "import requests\n",
    "import time"
   ]
  },
  {
   "cell_type": "code",
   "execution_count": 3,
   "metadata": {},
   "outputs": [
    {
     "name": "stdout",
     "output_type": "stream",
     "text": [
      "82.14350000000081\n",
      "19.98269999999991\n",
      "22.924199999998507\n",
      "18.168799999997987\n",
      "18.104700000002083\n",
      "17.1291999999994\n",
      "17.365300000001582\n",
      "18.92780000000016\n",
      "21.292099999996594\n",
      "16.391800000000956\n"
     ]
    }
   ],
   "source": [
    "target = \"https://hello-world.sns-radical.workers.dev/\"\n",
    "n = 10\n",
    "s = requests.Session()\n",
    "for i in range(n):\n",
    "  start = time.perf_counter()\n",
    "  resp = s.get(target)\n",
    "  end = time.perf_counter()\n",
    "  print((end - start) * 1000)"
   ]
  }
 ],
 "metadata": {
  "kernelspec": {
   "display_name": "base",
   "language": "python",
   "name": "python3"
  },
  "language_info": {
   "codemirror_mode": {
    "name": "ipython",
    "version": 3
   },
   "file_extension": ".py",
   "mimetype": "text/x-python",
   "name": "python",
   "nbconvert_exporter": "python",
   "pygments_lexer": "ipython3",
   "version": "3.7.11"
  }
 },
 "nbformat": 4,
 "nbformat_minor": 2
}
